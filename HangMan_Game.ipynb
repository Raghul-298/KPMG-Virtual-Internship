{
  "cells": [
    {
      "cell_type": "markdown",
      "metadata": {
        "id": "view-in-github",
        "colab_type": "text"
      },
      "source": [
        "<a href=\"https://colab.research.google.com/github/RAGHUL-PRASH/KPMG-Virtual-Internship/blob/main/HangMan_Game.ipynb\" target=\"_parent\"><img src=\"https://colab.research.google.com/assets/colab-badge.svg\" alt=\"Open In Colab\"/></a>"
      ]
    },
    {
      "cell_type": "markdown",
      "id": "6c02d853",
      "metadata": {
        "id": "6c02d853"
      },
      "source": [
        "# Hangman Game"
      ]
    },
    {
      "cell_type": "markdown",
      "id": "c15ada68",
      "metadata": {
        "id": "c15ada68"
      },
      "source": [
        "### In this project we are going to create Hangman Game using python"
      ]
    },
    {
      "cell_type": "markdown",
      "id": "83124fbb",
      "metadata": {
        "id": "83124fbb"
      },
      "source": [
        "#### Q. What is the hangman game?\n",
        "- A:- Hangman is a guessing game. The player will tries to guess a word picked by the computer, by suggesting letters within a certain number of guesses"
      ]
    },
    {
      "cell_type": "markdown",
      "id": "09ad41dc",
      "metadata": {
        "id": "09ad41dc"
      },
      "source": [
        "### Task 1\n",
        "Create a function __is_word_guessed__ that takes in two arguments :-  \n",
        "__secret_word, letters_guessed__  \n",
        "__returns True__ if all of the letter of secret_word are in letters_guessed, __returns False__ if not  \n",
        "\n",
        "\n",
        "\n",
        "#### Assumptions\n",
        "__secret_word__: string, the word the user is guessing; assumes all letters are lowercase\n",
        "__letters_guessed__: list (of letters), which letters have been guessed so far; assumes that all letters are lowercase\n",
        "\n",
        "\n",
        "__Example__:-  \n",
        "secret_word = 'apple'  \n",
        "letters_guessed = ['e', 'a', 'k', 'p', 'l', 's']  \n",
        "is_word_guessed() will return True.  \n",
        "  \n",
        "  \n",
        "secret_word = 'apple'  \n",
        "letters_guessed = ['e', 'i', 'k', 'p', 'r', 's']  \n",
        "is_word_guessed() will return False.  "
      ]
    },
    {
      "cell_type": "code",
      "execution_count": null,
      "id": "3f4c9483",
      "metadata": {
        "id": "3f4c9483",
        "colab": {
          "base_uri": "https://localhost:8080/"
        },
        "outputId": "919e1493-735e-40c9-f689-122dd4297fb3"
      },
      "outputs": [
        {
          "output_type": "execute_result",
          "data": {
            "text/plain": [
              "False"
            ]
          },
          "metadata": {},
          "execution_count": 4
        }
      ],
      "source": [
        "def is_word_guessed(secret_word, letters_guessed):\n",
        "\n",
        "  Temp=0\n",
        "  for word in secret_word:\n",
        "    if word not in letters_guessed:\n",
        "      Temp=-1\n",
        "      break\n",
        "  if Temp==0:\n",
        "    return True\n",
        "  else:\n",
        "    return False\n",
        "is_word_guessed('apple',['e','i','j','a'])"
      ]
    },
    {
      "cell_type": "markdown",
      "id": "6bc56ae5",
      "metadata": {
        "id": "6bc56ae5"
      },
      "source": [
        "### Task 2\n",
        "Create a function __get_guessed_word__ that takes in two arguments :-  \n",
        "__secret_word, letters_guessed___\n",
        "__returns__ string, comprised of known letters, and unknown letters represented by an underscore and a space (_ )  \n",
        "\n",
        "\n",
        "#### Assumptions  \n",
        "__secret_word__: string, the word the user is guessing;  \n",
        "__letters_guessed__: list (of letters), which letters have been guessed so far  \n",
        "\n",
        "__Example__:-  \n",
        "__secret_word__ = 'apple'  \n",
        "__letters_guessed__ = ['e', 'i', 'k', 'p', 'r', 's']  \n",
        "get_guessed_word() will return '_ pp_ e'  \n",
        "You want something like a_ _ _ d_ j and Not a___d_j,  \n",
        "which might make it hard for the user to know how many characters are there to be\n",
        "guessed,  \n",
        "that's why you want to use '_ ' instead of '_'  "
      ]
    },
    {
      "cell_type": "code",
      "execution_count": 18,
      "id": "704e6f46",
      "metadata": {
        "id": "704e6f46",
        "colab": {
          "base_uri": "https://localhost:8080/",
          "height": 36
        },
        "outputId": "a86233ff-416d-48dc-a76e-5bb4530045d5"
      },
      "outputs": [
        {
          "output_type": "execute_result",
          "data": {
            "text/plain": [
              "'a _  _  _ e'"
            ],
            "application/vnd.google.colaboratory.intrinsic+json": {
              "type": "string"
            }
          },
          "metadata": {},
          "execution_count": 18
        }
      ],
      "source": [
        "import random\n",
        "import string\n",
        "def get_guessed_word(secret_word, letters_guessed):\n",
        "    # Initialize an empty string to store the guessed word\n",
        "\n",
        "    # Iterate through each character in the secret word\n",
        "    for word in secret_word:\n",
        "            # Iterate through each character in the letter guessed\n",
        "        if word not in letters_guessed:\n",
        "            # If the character is guessed, append it to the guessed word\n",
        "            secret_word=secret_word.replace(word,' _ ')\n",
        "            # If the character is not guessed, append an underscore and a space\n",
        "    # return gussed_word\n",
        "    return secret_word\n",
        "\n",
        "\n",
        "get_guessed_word('apple',['a','e'])"
      ]
    },
    {
      "cell_type": "markdown",
      "id": "5581fc43",
      "metadata": {
        "id": "5581fc43"
      },
      "source": [
        "### Task 3\n",
        "Create a function get_available_letter that takes in one arguments  \n",
        "__letters_guessed__  \n",
        "__returns__ string (of letters), comprised of letters that represents which letters have not yet been guessed.  \n",
        "#### Assumptions\n",
        "__letters_guessed__: list (of letters), which letters have been guessed so far;\n",
        "\n",
        "__Example__:-  \n",
        "__letters_guessed__ = [’a’, ’l’, ’m’]  \n",
        "get_available_letter() will return 'bcdefghijknopqrstuvwxyz'  \n",
        "\n",
        "You might want to consider using string.ascii_lowercase :=  \n",
        "import string  \n",
        "print(string.ascii_lowercase)  \n",
        "output:- abcdefghijklmnopqrstuvwxyz  "
      ]
    },
    {
      "cell_type": "code",
      "source": [
        "import string"
      ],
      "metadata": {
        "id": "njRP4WBJYp1h"
      },
      "id": "njRP4WBJYp1h",
      "execution_count": null,
      "outputs": []
    },
    {
      "cell_type": "code",
      "execution_count": null,
      "id": "0a33aa2a",
      "metadata": {
        "id": "0a33aa2a",
        "colab": {
          "base_uri": "https://localhost:8080/",
          "height": 36
        },
        "outputId": "c40471dd-1e0f-417f-dbf9-078fcdd761a1"
      },
      "outputs": [
        {
          "output_type": "execute_result",
          "data": {
            "text/plain": [
              "'abdefghijklmnopqrstuvwxyz'"
            ],
            "application/vnd.google.colaboratory.intrinsic+json": {
              "type": "string"
            }
          },
          "metadata": {},
          "execution_count": 10
        }
      ],
      "source": [
        "\n",
        "def get_available_letters(letters_guessed):\n",
        "    '''\n",
        "    Get available letters that have not yet been guessed.\n",
        "\n",
        "    Parameters:\n",
        "    letters_guessed (list): List of letters that have been guessed so far.\n",
        "\n",
        "    Returns:\n",
        "    str: A string containing letters that have not been guessed.\n",
        "    '''\n",
        "    # Initialize available_letters with the entire alphabet\n",
        "    available_letters=string.ascii_lowercase\n",
        "    # Iterate through each letter that has been guessed\n",
        "    for letter in letters_guessed:\n",
        "        # Replace the guessed letter with an empty string in available_letters\n",
        "        available_letters=available_letters.replace(letter,\"\")\n",
        "\n",
        "    # Return the updated available_letters string\n",
        "    return available_letters\n",
        "\n",
        "get_available_letters('c')\n",
        "\n"
      ]
    },
    {
      "cell_type": "markdown",
      "id": "862d9652",
      "metadata": {
        "id": "862d9652"
      },
      "source": [
        "## Great, We have created all of the Helper functions, now let's start our work on the actual Hangman Game  \n",
        "\n",
        "\n",
        "# Hangman Game  \n",
        "\n",
        "Create a function __hangman__ that takes in one argument  \n",
        "__secret_word__ :- string, the secret word to guess.  \n",
        "\n",
        "__The function should do the following__:-  \n",
        "Starts up an interactive game of Hangman.\n",
        "- At the start of the game, let the user know how many letters the secret_word contains and how many guesses s/he starts with.\n",
        "- The user should start with 6 guesses\n",
        "- Before each round, you should display to the user how many guesses s/he has left and the letters that the user has not yet guessed.\n",
        "- Ask the user to supply one guess per round. Remember to make sure that the user puts in a letter!\n",
        "- The user should receive feedback immediately after each guess about whether their guess appears in the computer's word.\n",
        "- After each guess, you should display to the user the partially guessed word so far.\n",
        "- If the user inputs a letter that hasn’t been guessed before and the letter is in the secret word, the user loses no guesses.\n",
        "- Consonants: If the user inputs a consonant that hasn’t been guessed and the consonant is not in the secret word, the user loses one guess if it’s a consonant.\n",
        "- Vowels: If the vowel hasn’t been guessed and the vowel is not in the secret word, the user loses two guesses. Vowels are a, e, i, o, and u. y does not count as a vowel.\n",
        "- The game should end when the user constructs the full word or runs out of guesses.\n",
        "- If the player runs out of guesses before completing the word, tell them they lost and reveal the word to the user when the game ends.\n",
        "- If the user wins, print a congratulatory message and tell the user their score.\n",
        "- The total score is the number of guesses_remaining once the user has guessed the secret_word times the number of unique letters in secret_word.  \n",
        "\n",
        "<p style=\"text-align:center;\">Total score = guesses_remaining * number unique letters in secret_word</p>\n"
      ]
    },
    {
      "cell_type": "code",
      "execution_count": null,
      "id": "0295f68a",
      "metadata": {
        "id": "0295f68a"
      },
      "outputs": [],
      "source": [
        "# Import the random module to generate random choices\n",
        "# Import the string module for working with string constants\n",
        "\n",
        "# List of words to choose from\n",
        "\n",
        "# Choose a random word from the word list\n",
        "\n",
        "# Choose a random word from the word list\n",
        "\n",
        "# Initialize variables\n",
        "# List to store guessed letters\n",
        "# Number of allowed incorrect guesses\n",
        "# String containing vowels\n",
        "\n",
        "# Display a welcome message\n",
        "# Display the length of the secret word\n",
        "\n",
        "# Start an infinite loop for the game\n",
        "# Display the number of remaining guesses\n",
        "# Display available letters\n",
        "# Display the current state of the word\n",
        "\n",
        "# Prompt the user for a letter and convert it to lowercase\n",
        "# Check if the input is a valid single letter\n",
        "# Check if the letter has already been guessed\n",
        "# Add the guessed letter to the list\n",
        "# Check if the guessed letter is in the secret word\n",
        "# Display a success message\n",
        "# Display a failure message\n",
        "# Check if the incorrect guess is a vowel\n",
        "# Deduct two guesses\n",
        "# Deduct one guess\n",
        "# Check if the player has run out of guesses\n",
        "# Display the secret word\n",
        "# End the game\n",
        "# Check if there are no more underscores in the guessed word\n",
        "# Display success message\n",
        "# Calculate the score\n",
        "# Display the player's score\n",
        "# End the game\n",
        "\n",
        "# Start the Hangman game if the script is run as the main program\n"
      ]
    },
    {
      "cell_type": "markdown",
      "id": "1a980dca",
      "metadata": {
        "id": "1a980dca"
      },
      "source": [
        "# Demo Game 1"
      ]
    },
    {
      "cell_type": "markdown",
      "id": "58d73ecb",
      "metadata": {
        "id": "58d73ecb"
      },
      "source": [
        "# Hangman Game\n",
        "\n",
        "Welcome to Hangman!\n",
        "The word has 6 letters.\n",
        "\n",
        "**Guesses remaining:** 6  \n",
        "**Available letters:** abcdefghijklmnopqrstuvwxyz  \n",
        "**Word:** \\_ \\_ \\_ \\_ \\_ \\_\n",
        "\n",
        "**Guess a letter:** u  \n",
        "Incorrect guess.\n",
        "\n",
        "**Guesses remaining:** 4  \n",
        "**Available letters:** abcdefghijklmnopqrstvwxyz  \n",
        "**Word:** \\_ \\_ \\_ \\_ \\_ \\_\n",
        "\n",
        "**Guess a letter:** a  \n",
        "Good guess!\n",
        "\n",
        "**Guesses remaining:** 4  \n",
        "**Available letters:** bcdefghijklmnopqrstvwxyz  \n",
        "**Word:** \\_ a\\_ a\\_ a\n",
        "\n",
        "**Guess a letter:** p  \n",
        "Please enter a single letter.\n",
        "\n",
        "**Guesses remaining:** 4  \n",
        "**Available letters:** bcdefghijklmnopqrstvwxyz  \n",
        "**Word:** \\_ a\\_ a\\_ a\n",
        "\n",
        "**Guess a letter:** b  \n",
        "Good guess!\n",
        "\n",
        "**Guesses remaining:** 4  \n",
        "**Available letters:** cdefghijklmnopqrstvwxyz  \n",
        "**Word:** ba\\_ a\\_ a\n",
        "\n",
        "**Guess a letter:** n  \n",
        "Good guess!\n",
        "\n",
        "Congratulations! You've guessed the word: banana  \n",
        "Your score: 12\n"
      ]
    },
    {
      "cell_type": "markdown",
      "id": "3b226e3c",
      "metadata": {
        "id": "3b226e3c"
      },
      "source": [
        "# Demo Game 2"
      ]
    },
    {
      "cell_type": "markdown",
      "id": "56806e75",
      "metadata": {
        "id": "56806e75"
      },
      "source": [
        "# Hangman Game\n",
        "\n",
        "Welcome to Hangman!\n",
        "The word has 6 letters.\n",
        "\n",
        "**Guesses remaining:** 6  \n",
        "**Available letters:** abcdefghijklmnopqrstuvwxyz  \n",
        "**Word:** \\_ \\_ \\_ \\_ \\_ \\_\n",
        "\n",
        "**Guess a letter:** h  \n",
        "Incorrect guess.\n",
        "\n",
        "**Guesses remaining:** 5  \n",
        "**Available letters:** abcdefgijklmnopqrstuvwxyz  \n",
        "**Word:** \\_ \\_ \\_ \\_ \\_ \\_\n",
        "\n",
        "**Guess a letter:** w  \n",
        "Incorrect guess.\n",
        "\n",
        "**Guesses remaining:** 4  \n",
        "**Available letters:** abcdefgijklmnopqrstuvxyz  \n",
        "**Word:** \\_ \\_ \\_ \\_ \\_ \\_\n",
        "\n",
        "**Guess a letter:** k  \n",
        "Incorrect guess.\n",
        "\n",
        "**Guesses remaining:** 3  \n",
        "**Available letters:** abcdefgijlmnopqrstuvxyz  \n",
        "**Word:** \\_ \\_ \\_ \\_ \\_ \\_\n",
        "\n",
        "**Guess a letter:** d  \n",
        "Incorrect guess.\n",
        "\n",
        "**Guesses remaining:** 2  \n",
        "**Available letters:** abcefgijlmnopqrstuvxyz  \n",
        "**Word:** \\_ \\_ \\_ \\_ \\_ \\_\n",
        "\n",
        "**Guess a letter:** a  \n",
        "Good guess!\n",
        "\n",
        "**Guesses remaining:** 2  \n",
        "**Available letters:** bcefgijlmnopqrstuvxyz  \n",
        "**Word:** \\_ a\\_ a\\_ a\n",
        "\n",
        "**Guess a letter:** b  \n",
        "Good guess!\n",
        "\n",
        "**Guesses remaining:** 2  \n",
        "**Available letters:** cefgijlmnopqrstuvxyz  \n",
        "**Word:** ba_ a_ a\n",
        "\n",
        "**Guess a letter:** e  \n",
        "Incorrect guess.\n",
        "\n",
        "You've run out of guesses. The word was: banana\n"
      ]
    },
    {
      "cell_type": "markdown",
      "id": "3706272f",
      "metadata": {
        "id": "3706272f"
      },
      "source": [
        "## Hints\n",
        "__Try to keep the output as similar to the one's above__  \n",
        "\n",
        "__Hints:-__  \n",
        "\n",
        "1. Consider writing additional helper functions if you need them.  \n",
        "2. There are four important pieces of information you may wish to store:  \n",
        "a. secret_word: The word to guess. This is already used as the parameter name for the hangman function.  \n",
        "b. letters_guessed: The letters that have been guessed so far. If they guess a letter that is already in letters_guessed, you should print a message telling them they've already guessed that but do not penalize them for it.  \n",
        "c. guesses_remaining: The number of guesses the user has left. Note that in our example game, the penalty for choosing an incorrect vowel is different than the pena lty for choosing an incorrect consonant.  "
      ]
    },
    {
      "cell_type": "code",
      "execution_count": 24,
      "id": "e0b3c743",
      "metadata": {
        "id": "e0b3c743"
      },
      "outputs": [],
      "source": [
        "def no_of_unique_words(string):\n",
        "  list=[]\n",
        "  c=0\n",
        "  for s in string:\n",
        "    if s not in list:\n",
        "      c+=1\n",
        "      list.append(s)\n",
        "  return c\n",
        "\n",
        "def hangman(secret_word):\n",
        "  no_of_guess=6\n",
        "  letters_guessed=[]\n",
        "  total_score=0\n",
        "\n",
        "  print('Welcome to the game Hangman!')\n",
        "  print(f'I am thinking of a word that is {len(secret_word)} letters long.')\n",
        "  print('-----------------------------------')\n",
        "  while True:\n",
        "        if (no_of_guess ==0 and is_word_guessed(secret_word,letters_guessed)==False) or is_word_guessed(secret_word,letters_guessed):\n",
        "             if(is_word_guessed(secret_word,letters_guessed)):\n",
        "                  total_score=no_of_guess*no_of_unique_words(secret_word)\n",
        "                  print('Congratulations,you won !')\n",
        "                  print(f'Your total score for this game is:{total_score}')\n",
        "             elif no_of_guess>=0 and is_word_guessed(secret_word,letters_guessed)==False:\n",
        "                  print(f'Sorry,you ran out of guesses. The word has {secret_word}')\n",
        "        else:\n",
        "             available_letter=get_available_letters(letters_guessed)\n",
        "             print(f'You have {no_of_guess} guesses left.')\n",
        "             print(f'Available letters: {available_letter}')\n",
        "             letter_guessed=input('Please guess a letter:')\n",
        "             if(letter_guessed.isalpha()==False):\n",
        "                  print('That is not a valid letter')\n",
        "                  print('---------------------------')\n",
        "                  continue\n",
        "             elif(letter_guessed in letters_guessed):\n",
        "                  print('You have already guessed that letter')\n",
        "                  print('---------------------------')\n",
        "                  continue\n",
        "\n",
        "             letter_guessed=letter_guessed.lower()\n",
        "             letters_guessed.append(letter_guessed)\n",
        "             if letter_guessed in secret_word:\n",
        "                  print(f'Good guess:{get_guessed_word(secret_word,letters_guessed)}')\n",
        "             elif letter_guessed in ['a','e','i','o','u']:\n",
        "                  print(f'Oops! That letter is not in my word:{get_guessed_word(secret_word,letters_guessed)}')\n",
        "                  no_of_guess-=2\n",
        "             else:\n",
        "                  print(f'Oops! That letter is not in my word:{get_guessed_word(secret_word,letters_guessed)}')\n",
        "                  no_of_guess-=1\n",
        "             print('------------------------------')\n",
        "             continue\n",
        "        break"
      ]
    },
    {
      "cell_type": "code",
      "source": [
        "hangman('ball')"
      ],
      "metadata": {
        "colab": {
          "base_uri": "https://localhost:8080/"
        },
        "id": "0ZKlJnUTrFNP",
        "outputId": "56f6e10a-d98f-4afe-ee37-261951fbd367"
      },
      "id": "0ZKlJnUTrFNP",
      "execution_count": 26,
      "outputs": [
        {
          "output_type": "stream",
          "name": "stdout",
          "text": [
            "Welcome to the game Hangman!\n",
            "I am thinking of a word that is 4 letters long.\n",
            "-----------------------------------\n",
            "You have 6 guesses left.\n",
            "Available letters: abcdefghijklmnopqrstuvwxyz\n",
            "Please guess a letter:d\n",
            "Oops! That letter is not in my word: _  _  _  _ \n",
            "------------------------------\n",
            "You have 5 guesses left.\n",
            "Available letters: abcefghijklmnopqrstuvwxyz\n",
            "Please guess a letter:e\n",
            "Oops! That letter is not in my word: _  _  _  _ \n",
            "------------------------------\n",
            "You have 3 guesses left.\n",
            "Available letters: abcfghijklmnopqrstuvwxyz\n",
            "Please guess a letter:\n",
            "That is not a valid letter\n",
            "---------------------------\n",
            "You have 3 guesses left.\n",
            "Available letters: abcfghijklmnopqrstuvwxyz\n",
            "Please guess a letter:t\n",
            "Oops! That letter is not in my word: _  _  _  _ \n",
            "------------------------------\n",
            "You have 2 guesses left.\n",
            "Available letters: abcfghijklmnopqrsuvwxyz\n",
            "Please guess a letter:y\n",
            "Oops! That letter is not in my word: _  _  _  _ \n",
            "------------------------------\n",
            "You have 1 guesses left.\n",
            "Available letters: abcfghijklmnopqrsuvwxz\n",
            "Please guess a letter:r\n",
            "Oops! That letter is not in my word: _  _  _  _ \n",
            "------------------------------\n",
            "Sorry,you ran out of guesses. The word has ball\n"
          ]
        }
      ]
    }
  ],
  "metadata": {
    "kernelspec": {
      "display_name": "Python 3 (ipykernel)",
      "language": "python",
      "name": "python3"
    },
    "language_info": {
      "codemirror_mode": {
        "name": "ipython",
        "version": 3
      },
      "file_extension": ".py",
      "mimetype": "text/x-python",
      "name": "python",
      "nbconvert_exporter": "python",
      "pygments_lexer": "ipython3",
      "version": "3.9.7"
    },
    "colab": {
      "provenance": [],
      "include_colab_link": true
    }
  },
  "nbformat": 4,
  "nbformat_minor": 5
}